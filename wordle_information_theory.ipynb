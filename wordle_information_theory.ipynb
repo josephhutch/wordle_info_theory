{
 "cells": [
  {
   "cell_type": "code",
   "execution_count": 1,
   "metadata": {},
   "outputs": [],
   "source": [
    "import pandas as pd\n",
    "import seaborn as sns\n",
    "import matplotlib.pyplot as plt\n",
    "import numpy as np"
   ]
  },
  {
   "cell_type": "code",
   "execution_count": 14,
   "metadata": {},
   "outputs": [
    {
     "data": {
      "text/html": [
       "<div>\n",
       "<style scoped>\n",
       "    .dataframe tbody tr th:only-of-type {\n",
       "        vertical-align: middle;\n",
       "    }\n",
       "\n",
       "    .dataframe tbody tr th {\n",
       "        vertical-align: top;\n",
       "    }\n",
       "\n",
       "    .dataframe thead th {\n",
       "        text-align: right;\n",
       "    }\n",
       "</style>\n",
       "<table border=\"1\" class=\"dataframe\">\n",
       "  <thead>\n",
       "    <tr style=\"text-align: right;\">\n",
       "      <th></th>\n",
       "      <th>0</th>\n",
       "    </tr>\n",
       "  </thead>\n",
       "  <tbody>\n",
       "    <tr>\n",
       "      <th>0</th>\n",
       "      <td>aahed</td>\n",
       "    </tr>\n",
       "    <tr>\n",
       "      <th>1</th>\n",
       "      <td>aalii</td>\n",
       "    </tr>\n",
       "    <tr>\n",
       "      <th>2</th>\n",
       "      <td>aargh</td>\n",
       "    </tr>\n",
       "    <tr>\n",
       "      <th>3</th>\n",
       "      <td>aarti</td>\n",
       "    </tr>\n",
       "    <tr>\n",
       "      <th>4</th>\n",
       "      <td>abaca</td>\n",
       "    </tr>\n",
       "    <tr>\n",
       "      <th>...</th>\n",
       "      <td>...</td>\n",
       "    </tr>\n",
       "    <tr>\n",
       "      <th>12942</th>\n",
       "      <td>judge</td>\n",
       "    </tr>\n",
       "    <tr>\n",
       "      <th>12943</th>\n",
       "      <td>rower</td>\n",
       "    </tr>\n",
       "    <tr>\n",
       "      <th>12944</th>\n",
       "      <td>artsy</td>\n",
       "    </tr>\n",
       "    <tr>\n",
       "      <th>12945</th>\n",
       "      <td>rural</td>\n",
       "    </tr>\n",
       "    <tr>\n",
       "      <th>12946</th>\n",
       "      <td>shave</td>\n",
       "    </tr>\n",
       "  </tbody>\n",
       "</table>\n",
       "<p>12947 rows × 1 columns</p>\n",
       "</div>"
      ],
      "text/plain": [
       "           0\n",
       "0      aahed\n",
       "1      aalii\n",
       "2      aargh\n",
       "3      aarti\n",
       "4      abaca\n",
       "...      ...\n",
       "12942  judge\n",
       "12943  rower\n",
       "12944  artsy\n",
       "12945  rural\n",
       "12946  shave\n",
       "\n",
       "[12947 rows x 1 columns]"
      ]
     },
     "execution_count": 14,
     "metadata": {},
     "output_type": "execute_result"
    }
   ],
   "source": [
    "dfMa = pd.read_json(r'./Ma.json')\n",
    "dfOa = pd.read_json(r'./Oa.json')\n",
    "\n",
    "dfWordList = pd.concat([dfOa, dfMa], ignore_index=True)\n",
    "dfWordList"
   ]
  },
  {
   "cell_type": "code",
   "execution_count": 5,
   "metadata": {},
   "outputs": [
    {
     "data": {
      "text/html": [
       "<div>\n",
       "<style scoped>\n",
       "    .dataframe tbody tr th:only-of-type {\n",
       "        vertical-align: middle;\n",
       "    }\n",
       "\n",
       "    .dataframe tbody tr th {\n",
       "        vertical-align: top;\n",
       "    }\n",
       "\n",
       "    .dataframe thead th {\n",
       "        text-align: right;\n",
       "    }\n",
       "</style>\n",
       "<table border=\"1\" class=\"dataframe\">\n",
       "  <thead>\n",
       "    <tr style=\"text-align: right;\">\n",
       "      <th></th>\n",
       "      <th>0</th>\n",
       "      <th>letter1</th>\n",
       "      <th>letter2</th>\n",
       "      <th>letter3</th>\n",
       "      <th>letter4</th>\n",
       "      <th>letter5</th>\n",
       "    </tr>\n",
       "  </thead>\n",
       "  <tbody>\n",
       "    <tr>\n",
       "      <th>0</th>\n",
       "      <td>aahed</td>\n",
       "      <td>a</td>\n",
       "      <td>a</td>\n",
       "      <td>h</td>\n",
       "      <td>e</td>\n",
       "      <td>d</td>\n",
       "    </tr>\n",
       "    <tr>\n",
       "      <th>1</th>\n",
       "      <td>aalii</td>\n",
       "      <td>a</td>\n",
       "      <td>a</td>\n",
       "      <td>l</td>\n",
       "      <td>i</td>\n",
       "      <td>i</td>\n",
       "    </tr>\n",
       "    <tr>\n",
       "      <th>2</th>\n",
       "      <td>aargh</td>\n",
       "      <td>a</td>\n",
       "      <td>a</td>\n",
       "      <td>r</td>\n",
       "      <td>g</td>\n",
       "      <td>h</td>\n",
       "    </tr>\n",
       "    <tr>\n",
       "      <th>3</th>\n",
       "      <td>aarti</td>\n",
       "      <td>a</td>\n",
       "      <td>a</td>\n",
       "      <td>r</td>\n",
       "      <td>t</td>\n",
       "      <td>i</td>\n",
       "    </tr>\n",
       "    <tr>\n",
       "      <th>4</th>\n",
       "      <td>abaca</td>\n",
       "      <td>a</td>\n",
       "      <td>b</td>\n",
       "      <td>a</td>\n",
       "      <td>c</td>\n",
       "      <td>a</td>\n",
       "    </tr>\n",
       "    <tr>\n",
       "      <th>...</th>\n",
       "      <td>...</td>\n",
       "      <td>...</td>\n",
       "      <td>...</td>\n",
       "      <td>...</td>\n",
       "      <td>...</td>\n",
       "      <td>...</td>\n",
       "    </tr>\n",
       "    <tr>\n",
       "      <th>2304</th>\n",
       "      <td>judge</td>\n",
       "      <td>j</td>\n",
       "      <td>u</td>\n",
       "      <td>d</td>\n",
       "      <td>g</td>\n",
       "      <td>e</td>\n",
       "    </tr>\n",
       "    <tr>\n",
       "      <th>2305</th>\n",
       "      <td>rower</td>\n",
       "      <td>r</td>\n",
       "      <td>o</td>\n",
       "      <td>w</td>\n",
       "      <td>e</td>\n",
       "      <td>r</td>\n",
       "    </tr>\n",
       "    <tr>\n",
       "      <th>2306</th>\n",
       "      <td>artsy</td>\n",
       "      <td>a</td>\n",
       "      <td>r</td>\n",
       "      <td>t</td>\n",
       "      <td>s</td>\n",
       "      <td>y</td>\n",
       "    </tr>\n",
       "    <tr>\n",
       "      <th>2307</th>\n",
       "      <td>rural</td>\n",
       "      <td>r</td>\n",
       "      <td>u</td>\n",
       "      <td>r</td>\n",
       "      <td>a</td>\n",
       "      <td>l</td>\n",
       "    </tr>\n",
       "    <tr>\n",
       "      <th>2308</th>\n",
       "      <td>shave</td>\n",
       "      <td>s</td>\n",
       "      <td>h</td>\n",
       "      <td>a</td>\n",
       "      <td>v</td>\n",
       "      <td>e</td>\n",
       "    </tr>\n",
       "  </tbody>\n",
       "</table>\n",
       "<p>12947 rows × 6 columns</p>\n",
       "</div>"
      ],
      "text/plain": [
       "          0 letter1 letter2 letter3 letter4 letter5\n",
       "0     aahed       a       a       h       e       d\n",
       "1     aalii       a       a       l       i       i\n",
       "2     aargh       a       a       r       g       h\n",
       "3     aarti       a       a       r       t       i\n",
       "4     abaca       a       b       a       c       a\n",
       "...     ...     ...     ...     ...     ...     ...\n",
       "2304  judge       j       u       d       g       e\n",
       "2305  rower       r       o       w       e       r\n",
       "2306  artsy       a       r       t       s       y\n",
       "2307  rural       r       u       r       a       l\n",
       "2308  shave       s       h       a       v       e\n",
       "\n",
       "[12947 rows x 6 columns]"
      ]
     },
     "execution_count": 5,
     "metadata": {},
     "output_type": "execute_result"
    }
   ],
   "source": [
    "dfWordList['letter1'] = dfWordList.apply(lambda row: row[0][0], axis=1)\n",
    "dfWordList['letter2'] = dfWordList.apply(lambda row: row[0][1], axis=1)\n",
    "dfWordList['letter3'] = dfWordList.apply(lambda row: row[0][2], axis=1)\n",
    "dfWordList['letter4'] = dfWordList.apply(lambda row: row[0][3], axis=1)\n",
    "dfWordList['letter5'] = dfWordList.apply(lambda row: row[0][4], axis=1)\n",
    "dfWordList"
   ]
  },
  {
   "cell_type": "code",
   "execution_count": 6,
   "metadata": {},
   "outputs": [
    {
     "data": {
      "text/plain": [
       "count     12947\n",
       "unique       26\n",
       "top           s\n",
       "freq       1560\n",
       "Name: letter1, dtype: object"
      ]
     },
     "execution_count": 6,
     "metadata": {},
     "output_type": "execute_result"
    }
   ],
   "source": [
    "dfWordList['letter1'].describe()"
   ]
  },
  {
   "cell_type": "code",
   "execution_count": 7,
   "metadata": {},
   "outputs": [
    {
     "data": {
      "text/plain": [
       "<AxesSubplot:>"
      ]
     },
     "execution_count": 7,
     "metadata": {},
     "output_type": "execute_result"
    },
    {
     "data": {
      "image/png": "[encoded data removed]",
      "text/plain": [
       "<Figure size 1440x288 with 5 Axes>"
      ]
     },
     "metadata": {
      "needs_background": "light"
     },
     "output_type": "display_data"
    }
   ],
   "source": [
    "f, axs = plt.subplots(1, 5, figsize=(20, 4), sharey=True)\n",
    "l1_counts = dfWordList['letter1'].value_counts()\n",
    "l2_counts = dfWordList['letter2'].value_counts()\n",
    "l3_counts = dfWordList['letter3'].value_counts()\n",
    "l4_counts = dfWordList['letter4'].value_counts()\n",
    "l5_counts = dfWordList['letter5'].value_counts()\n",
    "sns.barplot(x=l1_counts.keys(), y=l1_counts.values, ax=axs[0])\n",
    "sns.barplot(x=l2_counts.keys(), y=l2_counts.values, ax=axs[1])\n",
    "sns.barplot(x=l3_counts.keys(), y=l3_counts.values, ax=axs[2])\n",
    "sns.barplot(x=l4_counts.keys(), y=l4_counts.values, ax=axs[3])\n",
    "sns.barplot(x=l5_counts.keys(), y=l5_counts.values, ax=axs[4])\n"
   ]
  },
  {
   "cell_type": "code",
   "execution_count": 29,
   "metadata": {},
   "outputs": [
    {
     "name": "stdout",
     "output_type": "stream",
     "text": [
      "0.9999227620298139\n",
      "13.660218788535618\n",
      "0.05676990808681548\n",
      "9.521600439723727\n"
     ]
    },
    {
     "data": {
      "text/plain": [
       "14.19970408276659"
      ]
     },
     "execution_count": 29,
     "metadata": {},
     "output_type": "execute_result"
    }
   ],
   "source": [
    "def numRemainingWords(sWordList, pattern):\n",
    "    return sWordList.str.match(pattern).sum()\n",
    "\n",
    "def calcPatternProb(sWordList, pattern):\n",
    "    return sWordList.str.match(pattern).sum() / sWordList.size\n",
    "\n",
    "def calcPatternEntropy(sWordList, pattern): # assumes equal prob per word\n",
    "    # return [np.log2(sWordList[i].nunique()) for i in range(2)].sum()\n",
    "    return np.log2(sWordList.str.match(pattern).sum())\n",
    "\n",
    "def EVofEntropy(word, sWordList):\n",
    "    entropy = 0\n",
    "    patterns = [f\"(?!{word})\", f\"[{word[0]}](?!{word[1:]})\"]\n",
    "\n",
    "    for pattern in patterns:\n",
    "        print(calcPatternProb(sWordList, pattern))\n",
    "        print(calcPatternEntropy(sWordList, pattern))\n",
    "        entropy += calcPatternProb(sWordList, pattern) * calcPatternEntropy(sWordList, pattern)\n",
    "\n",
    "    return entropy\n",
    "\n",
    "EVofEntropy(\"aahed\", dfWordList[0])\n",
    "\n",
    "# def calcEntropy(sWordList, guess):\n",
    "#     guessPattern = [guess[0] + '....', '.' + guess[1], '..' + guess[2]]\n",
    "\n",
    "# calcEntropy(numRemainingWords(dfWordList[0], \"s....\"))\n",
    "\n",
    "# calcEntropy( pd.Series([\"aa\", \"ab\"]) )\n",
    "\n",
    "# print(len(dfWordList))\n",
    "# print(dfWordList[0][0])\n",
    "# print(dfWordList[0].str.match(f\"(?!{dfWordList[0][0]})\").sum())\n",
    "\n",
    "# prob all wrong * Entropy + prob 1 wrong * Entropy ...\n",
    "# Pick word with least entropy"
   ]
  },
  {
   "cell_type": "code",
   "execution_count": null,
   "metadata": {},
   "outputs": [
    {
     "data": {
      "text/plain": [
       "array([-0.52252556, -0.36269971, -0.33252642, -0.25251949, -0.23307502,\n",
       "       -0.22305008, -0.22174472, -0.18873525, -0.17494861, -0.15165227,\n",
       "       -0.14571983, -0.11961792, -0.1122468 , -0.0864881 , -0.07335419,\n",
       "       -0.07179776, -0.06544365, -0.04625224, -0.0407178 , -0.03929977,\n",
       "       -0.03786677, -0.03544323, -0.021405  , -0.00360248, -0.00360248,\n",
       "       -0.00279803])"
      ]
     },
     "execution_count": 6,
     "metadata": {},
     "output_type": "execute_result"
    }
   ],
   "source": [
    "# H = - sum_i( P(x) * log2( P(x) ) )\n",
    "\n",
    "# l1_counts.values\n",
    "\n",
    "# [x] [/] [o] [] []\n",
    "\n",
    "- sum( l5_counts.values/l5_counts.values.sum() * np.log2(l5_counts.values / l5_counts.values.sum()) )"
   ]
  },
  {
   "cell_type": "code",
   "execution_count": null,
   "metadata": {},
   "outputs": [
    {
     "data": {
      "text/plain": [
       "array([-3.05299991, -3.81484017, -3.83378174, -3.91717883, -3.98967397,\n",
       "       -4.13676827, -4.22361868, -4.24881924, -4.34518066, -4.36570947,\n",
       "       -4.44358437, -4.49291208, -4.72959289, -4.97733564, -5.10958344,\n",
       "       -5.31603432, -5.41715624, -5.62690722, -5.74146699, -6.00211874,\n",
       "       -6.0980878 , -6.16048434, -6.29400801, -6.94608471, -7.374928  ,\n",
       "       -9.66033022])"
      ]
     },
     "execution_count": 7,
     "metadata": {},
     "output_type": "execute_result"
    }
   ],
   "source": [
    "np.log2(l1_counts.values / l1_counts.values.sum())"
   ]
  },
  {
   "cell_type": "code",
   "execution_count": 31,
   "metadata": {},
   "outputs": [
    {
     "name": "stdout",
     "output_type": "stream",
     "text": [
      "['talbxs']\n"
     ]
    }
   ],
   "source": [
    "def generate_combinations():\n",
    "    combinations = []\n",
    "    for g in range(6):  # 0 to 5 green letters\n",
    "        for y in range(6 - g):  # Remaining could be yellow\n",
    "            n = 5 - g - y  # The rest will be gray\n",
    "            combinations.append((g, y, n))\n",
    "    return combinations\n",
    "\n",
    "def matches_combination(word, guess, combination):\n",
    "    g, y, n = combination\n",
    "    green_count, yellow_count = 0, 0\n",
    "\n",
    "    # Count green letters\n",
    "    for i in range(5):\n",
    "        if word[i] == guess[i]:\n",
    "            green_count += 1\n",
    "\n",
    "    # Count yellow letters\n",
    "    for i in range(5):\n",
    "        if word[i] in guess and word[i] != guess[i]:\n",
    "            yellow_count += 1\n",
    "\n",
    "    return green_count == g and yellow_count == y\n",
    "\n",
    "# Example Usage\n",
    "word_list = [\"apple\", \"table\", \"chair\", \"grape\", \"flame\", \"talbxs\"]  # Your actual word list will be larger\n",
    "guess = \"table\"\n",
    "combination = (2, 2, 1)\n",
    "\n",
    "matching_words = [word for word in word_list if matches_combination(word, guess, combination)]\n",
    "print(matching_words)\n"
   ]
  },
  {
   "cell_type": "code",
   "execution_count": 39,
   "metadata": {},
   "outputs": [
    {
     "name": "stdout",
     "output_type": "stream",
     "text": [
      "[]\n"
     ]
    }
   ],
   "source": [
    "def generate_explicit_combinations():\n",
    "    statuses = 'GYN'\n",
    "    return [''.join(p) for p in itertools.product(statuses, repeat=5)]\n",
    "\n",
    "def matches_explicit_combination(word, guess, combination):\n",
    "    for i in range(5):\n",
    "        if combination[i] == 'G' and word[i] != guess[i]:\n",
    "            return False\n",
    "        elif combination[i] == 'Y' and (word[i] == guess[i] or word[i] not in guess):\n",
    "            return False\n",
    "        elif combination[i] == 'N' and word[i] in guess:\n",
    "            return False\n",
    "    return True\n",
    "\n",
    "# Example Usage\n",
    "word_list = [\"apple\", \"table\", \"chair\", \"grape\", \"flame\", \"table\"]\n",
    "guess = \"table\"\n",
    "combination = 'GGGGY'\n",
    "\n",
    "matching_words = [word for word in word_list if matches_explicit_combination(word, guess, combination)]\n",
    "print(matching_words)\n"
   ]
  },
  {
   "cell_type": "code",
   "execution_count": 40,
   "metadata": {},
   "outputs": [
    {
     "name": "stdout",
     "output_type": "stream",
     "text": [
      "['table']\n"
     ]
    }
   ],
   "source": [
    "import itertools\n",
    "from collections import Counter\n",
    "\n",
    "def generate_explicit_combinations():\n",
    "    statuses = 'GYN'\n",
    "    return [''.join(p) for p in itertools.product(statuses, repeat=5)]\n",
    "\n",
    "def matches_explicit_combination(word, guess, combination):\n",
    "    green_match = [i for i in range(5) if word[i] == guess[i] and combination[i] == 'G']\n",
    "    if len(green_match) != combination.count('G'):\n",
    "        return False\n",
    "\n",
    "    # Remove green matches to consider yellows\n",
    "    remaining_word_chars = [word[i] for i in range(5) if i not in green_match]\n",
    "    remaining_guess_chars = [guess[i] for i in range(5) if i not in green_match]\n",
    "\n",
    "    word_tally = Counter(remaining_word_chars)\n",
    "    guess_tally = Counter(remaining_guess_chars)\n",
    "\n",
    "    yellows = sum([min(word_tally[c], guess_tally[c]) for c in set(remaining_guess_chars)])\n",
    "    if yellows != combination.count('Y'):\n",
    "        return False\n",
    "\n",
    "    return True\n",
    "\n",
    "# Example Usage\n",
    "word_list = [\"apple\", \"table\", \"chair\", \"grape\", \"flame\", \"tablb\"]\n",
    "guess = \"table\"\n",
    "combination = 'GGGGY'\n",
    "\n",
    "matching_words = [word for word in word_list if matches_explicit_combination(word, guess, combination)]\n",
    "print(matching_words)\n"
   ]
  },
  {
   "cell_type": "code",
   "execution_count": null,
   "metadata": {},
   "outputs": [],
   "source": []
  }
 ],
 "metadata": {
  "kernelspec": {
   "display_name": "Python 3.8.12 ('wordle')",
   "language": "python",
   "name": "python3"
  },
  "language_info": {
   "codemirror_mode": {
    "name": "ipython",
    "version": 3
   },
   "file_extension": ".py",
   "mimetype": "text/x-python",
   "name": "python",
   "nbconvert_exporter": "python",
   "pygments_lexer": "ipython3",
   "version": "3.8.12"
  },
  "orig_nbformat": 4,
  "vscode": {
   "interpreter": {
    "hash": "d3f9e9e66b591afced45b49e895bf598ac2c7580dace0ad0e3462bb5c4f729d8"
   }
  }
 },
 "nbformat": 4,
 "nbformat_minor": 2
}
